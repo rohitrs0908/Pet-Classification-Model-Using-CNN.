{
 "cells": [
  {
   "cell_type": "code",
   "execution_count": null,
   "metadata": {},
   "outputs": [],
   "source": [
    "#Extract the dataset\n",
    "!unzip 1577957291_deeplearningwithkerasandtensorflow.zip"
   ]
  },
  {
   "cell_type": "markdown",
   "metadata": {},
   "source": [
    "Pet Classification Model Using CNN"
   ]
  },
  {
   "cell_type": "markdown",
   "metadata": {},
   "source": [
    "Import Modules"
   ]
  },
  {
   "cell_type": "code",
   "execution_count": 38,
   "metadata": {},
   "outputs": [],
   "source": [
    "import numpy as np\n",
    "import pandas as pd \n",
    "from keras.preprocessing.image import ImageDataGenerator, load_img\n",
    "from keras.utils import to_categorical\n",
    "from sklearn.model_selection import train_test_split\n",
    "import matplotlib.pyplot as plt\n",
    "import random\n",
    "import os\n"
   ]
  },
  {
   "cell_type": "markdown",
   "metadata": {},
   "source": [
    "Read image data set "
   ]
  },
  {
   "cell_type": "code",
   "execution_count": 74,
   "metadata": {},
   "outputs": [],
   "source": [
    "dataflow = ImageDataGenerator(rescale=1.0 / 255)"
   ]
  },
  {
   "cell_type": "code",
   "execution_count": 75,
   "metadata": {},
   "outputs": [
    {
     "name": "stdout",
     "output_type": "stream",
     "text": [
      "Found 40 images belonging to 2 classes.\n"
     ]
    }
   ],
   "source": [
    "train= dataflow.flow_from_directory(\"data/train\" , class_mode='binary')"
   ]
  },
  {
   "cell_type": "code",
   "execution_count": 76,
   "metadata": {},
   "outputs": [
    {
     "name": "stdout",
     "output_type": "stream",
     "text": [
      "Found 20 images belonging to 2 classes.\n"
     ]
    }
   ],
   "source": [
    "test= dataflow.flow_from_directory(\"data/test\" , class_mode='binary')"
   ]
  },
  {
   "cell_type": "markdown",
   "metadata": {},
   "source": [
    "Build CNN Model"
   ]
  },
  {
   "cell_type": "code",
   "execution_count": 78,
   "metadata": {},
   "outputs": [],
   "source": [
    "from keras.models import Sequential\n",
    "from keras.layers import Conv2D, MaxPooling2D, Dropout, Flatten, Dense, Activation, BatchNormalization\n",
    "\n",
    "model = Sequential()\n",
    "\n",
    "model.add(Conv2D(32, (5, 5), activation='relu', input_shape=(256, 256, 3)))\n",
    "model.add(MaxPooling2D(pool_size=(2, 2)))\n",
    "model.add(Conv2D(64, (5, 5), activation='relu'))\n",
    "model.add(MaxPooling2D(pool_size=(2, 2)))\n",
    "model.add(Dropout(0.4))\n",
    "model.add(Flatten())\n",
    "model.add(Dense(32, activation='relu'))\n",
    "model.add(Dense(1, activation='sigmoid')) # 2 because we have cat and dog classes"
   ]
  },
  {
   "cell_type": "code",
   "execution_count": 80,
   "metadata": {},
   "outputs": [],
   "source": [
    "import tensorflow as tf\n",
    "sgd_opt = tf.keras.optimizers.SGD(lr = 0.01)"
   ]
  },
  {
   "cell_type": "code",
   "execution_count": 84,
   "metadata": {},
   "outputs": [],
   "source": [
    "model.compile(loss='binary_crossentropy', optimizer=sgd_opt, metrics=['accuracy'])"
   ]
  },
  {
   "cell_type": "markdown",
   "metadata": {},
   "source": [
    "Train The Model for 100 itearations"
   ]
  },
  {
   "cell_type": "code",
   "execution_count": 85,
   "metadata": {},
   "outputs": [
    {
     "name": "stdout",
     "output_type": "stream",
     "text": [
      "Epoch 1/100\n",
      "2/2 [==============================] - 6s 3s/step - loss: 0.7746 - accuracy: 0.4500 - val_loss: 0.7766 - val_accuracy: 0.5000\n",
      "Epoch 2/100\n",
      "2/2 [==============================] - 6s 3s/step - loss: 0.7492 - accuracy: 0.5000 - val_loss: 0.6933 - val_accuracy: 0.5000\n",
      "Epoch 3/100\n",
      "2/2 [==============================] - 6s 3s/step - loss: 0.6865 - accuracy: 0.5250 - val_loss: 0.6949 - val_accuracy: 0.5000\n",
      "Epoch 4/100\n",
      "2/2 [==============================] - 6s 3s/step - loss: 0.6924 - accuracy: 0.4500 - val_loss: 0.6914 - val_accuracy: 0.5500\n",
      "Epoch 5/100\n",
      "2/2 [==============================] - 6s 3s/step - loss: 0.6816 - accuracy: 0.6750 - val_loss: 0.6926 - val_accuracy: 0.3500\n",
      "Epoch 6/100\n",
      "2/2 [==============================] - 6s 3s/step - loss: 0.6750 - accuracy: 0.6500 - val_loss: 0.6997 - val_accuracy: 0.3500\n",
      "Epoch 7/100\n",
      "2/2 [==============================] - 6s 3s/step - loss: 0.6610 - accuracy: 0.7000 - val_loss: 0.7014 - val_accuracy: 0.4500\n",
      "Epoch 8/100\n",
      "2/2 [==============================] - 6s 3s/step - loss: 0.6587 - accuracy: 0.7250 - val_loss: 0.7063 - val_accuracy: 0.4500\n",
      "Epoch 9/100\n",
      "2/2 [==============================] - 6s 3s/step - loss: 0.6467 - accuracy: 0.6500 - val_loss: 0.7067 - val_accuracy: 0.4500\n",
      "Epoch 10/100\n",
      "2/2 [==============================] - 6s 3s/step - loss: 0.6549 - accuracy: 0.6750 - val_loss: 0.7646 - val_accuracy: 0.5000\n",
      "Epoch 11/100\n",
      "2/2 [==============================] - 6s 3s/step - loss: 0.7033 - accuracy: 0.4750 - val_loss: 0.7231 - val_accuracy: 0.5000\n",
      "Epoch 12/100\n",
      "2/2 [==============================] - 6s 3s/step - loss: 0.6594 - accuracy: 0.5250 - val_loss: 0.7065 - val_accuracy: 0.4500\n",
      "Epoch 13/100\n",
      "2/2 [==============================] - 6s 3s/step - loss: 0.6192 - accuracy: 0.7500 - val_loss: 0.7175 - val_accuracy: 0.4500\n",
      "Epoch 14/100\n",
      "2/2 [==============================] - 6s 3s/step - loss: 0.5830 - accuracy: 0.7750 - val_loss: 0.7320 - val_accuracy: 0.4500\n",
      "Epoch 15/100\n",
      "2/2 [==============================] - 6s 3s/step - loss: 0.6017 - accuracy: 0.7500 - val_loss: 0.7674 - val_accuracy: 0.4500\n",
      "Epoch 16/100\n",
      "2/2 [==============================] - 6s 3s/step - loss: 0.5887 - accuracy: 0.6750 - val_loss: 1.0004 - val_accuracy: 0.5000\n",
      "Epoch 17/100\n",
      "2/2 [==============================] - 6s 3s/step - loss: 0.6422 - accuracy: 0.7750 - val_loss: 0.7342 - val_accuracy: 0.4500\n",
      "Epoch 18/100\n",
      "2/2 [==============================] - 6s 3s/step - loss: 0.9294 - accuracy: 0.4500 - val_loss: 0.7257 - val_accuracy: 0.4500\n",
      "Epoch 19/100\n",
      "2/2 [==============================] - 6s 3s/step - loss: 0.6192 - accuracy: 0.7750 - val_loss: 0.7158 - val_accuracy: 0.4500\n",
      "Epoch 20/100\n",
      "2/2 [==============================] - 6s 3s/step - loss: 0.5960 - accuracy: 0.8750 - val_loss: 0.7234 - val_accuracy: 0.5500\n",
      "Epoch 21/100\n",
      "2/2 [==============================] - 6s 3s/step - loss: 0.5847 - accuracy: 0.7500 - val_loss: 0.7358 - val_accuracy: 0.5500\n",
      "Epoch 22/100\n",
      "2/2 [==============================] - 6s 3s/step - loss: 0.5773 - accuracy: 0.7750 - val_loss: 0.7847 - val_accuracy: 0.4500\n",
      "Epoch 23/100\n",
      "2/2 [==============================] - 6s 3s/step - loss: 0.5938 - accuracy: 0.8000 - val_loss: 0.7447 - val_accuracy: 0.4500\n",
      "Epoch 24/100\n",
      "2/2 [==============================] - 6s 3s/step - loss: 0.5318 - accuracy: 0.8250 - val_loss: 0.7606 - val_accuracy: 0.4500\n",
      "Epoch 25/100\n",
      "2/2 [==============================] - 6s 3s/step - loss: 0.5484 - accuracy: 0.7250 - val_loss: 0.7924 - val_accuracy: 0.4500\n",
      "Epoch 26/100\n",
      "2/2 [==============================] - 6s 3s/step - loss: 0.5724 - accuracy: 0.6500 - val_loss: 0.8885 - val_accuracy: 0.5000\n",
      "Epoch 27/100\n",
      "2/2 [==============================] - 6s 3s/step - loss: 0.5844 - accuracy: 0.6000 - val_loss: 0.8248 - val_accuracy: 0.5000\n",
      "Epoch 28/100\n",
      "2/2 [==============================] - 6s 3s/step - loss: 0.5302 - accuracy: 0.6750 - val_loss: 0.7711 - val_accuracy: 0.4500\n",
      "Epoch 29/100\n",
      "2/2 [==============================] - 6s 3s/step - loss: 0.7180 - accuracy: 0.5000 - val_loss: 0.7824 - val_accuracy: 0.5500\n",
      "Epoch 30/100\n",
      "2/2 [==============================] - 6s 3s/step - loss: 0.4962 - accuracy: 0.8000 - val_loss: 0.7844 - val_accuracy: 0.4500\n",
      "Epoch 31/100\n",
      "2/2 [==============================] - 6s 3s/step - loss: 0.5917 - accuracy: 0.6250 - val_loss: 0.7769 - val_accuracy: 0.4500\n",
      "Epoch 32/100\n",
      "2/2 [==============================] - 6s 3s/step - loss: 0.4924 - accuracy: 0.8250 - val_loss: 1.0154 - val_accuracy: 0.5000\n",
      "Epoch 33/100\n",
      "2/2 [==============================] - 6s 3s/step - loss: 0.5800 - accuracy: 0.6250 - val_loss: 0.7707 - val_accuracy: 0.5000\n",
      "Epoch 34/100\n",
      "2/2 [==============================] - 6s 3s/step - loss: 0.4603 - accuracy: 0.8250 - val_loss: 0.7938 - val_accuracy: 0.4500\n",
      "Epoch 35/100\n",
      "2/2 [==============================] - 6s 3s/step - loss: 0.4781 - accuracy: 0.8250 - val_loss: 1.1274 - val_accuracy: 0.5000\n",
      "Epoch 36/100\n",
      "2/2 [==============================] - 6s 3s/step - loss: 0.4768 - accuracy: 0.7750 - val_loss: 0.7872 - val_accuracy: 0.4500\n",
      "Epoch 37/100\n",
      "2/2 [==============================] - 6s 3s/step - loss: 0.6138 - accuracy: 0.6000 - val_loss: 0.8186 - val_accuracy: 0.5500\n",
      "Epoch 38/100\n",
      "2/2 [==============================] - 6s 3s/step - loss: 0.4189 - accuracy: 0.8250 - val_loss: 0.8069 - val_accuracy: 0.4500\n",
      "Epoch 39/100\n",
      "2/2 [==============================] - 6s 3s/step - loss: 0.3841 - accuracy: 0.8750 - val_loss: 0.8457 - val_accuracy: 0.4500\n",
      "Epoch 40/100\n",
      "2/2 [==============================] - 6s 3s/step - loss: 0.4373 - accuracy: 0.7250 - val_loss: 0.9884 - val_accuracy: 0.5500\n",
      "Epoch 41/100\n",
      "2/2 [==============================] - 6s 3s/step - loss: 0.4073 - accuracy: 0.8000 - val_loss: 0.9188 - val_accuracy: 0.5000\n",
      "Epoch 42/100\n",
      "2/2 [==============================] - 6s 3s/step - loss: 0.3955 - accuracy: 0.8000 - val_loss: 0.9175 - val_accuracy: 0.4500\n",
      "Epoch 43/100\n",
      "2/2 [==============================] - 6s 3s/step - loss: 0.3392 - accuracy: 0.8750 - val_loss: 0.9994 - val_accuracy: 0.5000\n",
      "Epoch 44/100\n",
      "2/2 [==============================] - 6s 3s/step - loss: 0.5014 - accuracy: 0.7750 - val_loss: 1.4793 - val_accuracy: 0.5000\n",
      "Epoch 45/100\n",
      "2/2 [==============================] - 6s 3s/step - loss: 0.5236 - accuracy: 0.8500 - val_loss: 0.7848 - val_accuracy: 0.4500\n",
      "Epoch 46/100\n",
      "2/2 [==============================] - 6s 3s/step - loss: 0.3387 - accuracy: 0.8750 - val_loss: 0.9040 - val_accuracy: 0.6000\n",
      "Epoch 47/100\n",
      "2/2 [==============================] - 6s 3s/step - loss: 0.3657 - accuracy: 0.8500 - val_loss: 0.8651 - val_accuracy: 0.5000\n",
      "Epoch 48/100\n",
      "2/2 [==============================] - 6s 3s/step - loss: 0.3769 - accuracy: 0.8500 - val_loss: 0.9377 - val_accuracy: 0.5500\n",
      "Epoch 49/100\n",
      "2/2 [==============================] - 6s 3s/step - loss: 0.3056 - accuracy: 0.8500 - val_loss: 0.9172 - val_accuracy: 0.5000\n",
      "Epoch 50/100\n",
      "2/2 [==============================] - 6s 3s/step - loss: 0.3345 - accuracy: 0.8750 - val_loss: 1.1199 - val_accuracy: 0.4500\n",
      "Epoch 51/100\n",
      "2/2 [==============================] - 6s 3s/step - loss: 0.5609 - accuracy: 0.7000 - val_loss: 0.8320 - val_accuracy: 0.5000\n",
      "Epoch 52/100\n",
      "2/2 [==============================] - 6s 3s/step - loss: 0.3808 - accuracy: 0.8250 - val_loss: 0.7988 - val_accuracy: 0.5000\n",
      "Epoch 53/100\n",
      "2/2 [==============================] - 7s 3s/step - loss: 0.3211 - accuracy: 0.9000 - val_loss: 0.8120 - val_accuracy: 0.4500\n",
      "Epoch 54/100\n",
      "2/2 [==============================] - 7s 3s/step - loss: 0.3524 - accuracy: 0.9250 - val_loss: 1.4546 - val_accuracy: 0.5000\n",
      "Epoch 55/100\n",
      "2/2 [==============================] - 6s 3s/step - loss: 0.6306 - accuracy: 0.6000 - val_loss: 0.7841 - val_accuracy: 0.5500\n",
      "Epoch 56/100\n",
      "2/2 [==============================] - 7s 3s/step - loss: 0.3156 - accuracy: 0.9250 - val_loss: 0.8432 - val_accuracy: 0.4500\n",
      "Epoch 57/100\n",
      "2/2 [==============================] - 6s 3s/step - loss: 0.2906 - accuracy: 0.9250 - val_loss: 0.8845 - val_accuracy: 0.4500\n",
      "Epoch 58/100\n",
      "2/2 [==============================] - 6s 3s/step - loss: 0.3058 - accuracy: 0.8750 - val_loss: 1.0607 - val_accuracy: 0.4500\n",
      "Epoch 59/100\n",
      "2/2 [==============================] - 6s 3s/step - loss: 0.2298 - accuracy: 0.9250 - val_loss: 0.9474 - val_accuracy: 0.5000\n",
      "Epoch 60/100\n",
      "2/2 [==============================] - 6s 3s/step - loss: 0.2427 - accuracy: 0.9250 - val_loss: 0.9394 - val_accuracy: 0.5500\n",
      "Epoch 61/100\n",
      "2/2 [==============================] - 6s 3s/step - loss: 0.3312 - accuracy: 0.8500 - val_loss: 1.2531 - val_accuracy: 0.5500\n",
      "Epoch 62/100\n",
      "2/2 [==============================] - 6s 3s/step - loss: 0.4405 - accuracy: 0.7500 - val_loss: 0.7652 - val_accuracy: 0.5000\n",
      "Epoch 63/100\n",
      "2/2 [==============================] - 6s 3s/step - loss: 0.2365 - accuracy: 0.9500 - val_loss: 0.8251 - val_accuracy: 0.5000\n",
      "Epoch 64/100\n",
      "2/2 [==============================] - 6s 3s/step - loss: 0.2413 - accuracy: 0.9750 - val_loss: 0.8458 - val_accuracy: 0.4500\n",
      "Epoch 65/100\n",
      "2/2 [==============================] - 6s 3s/step - loss: 0.2572 - accuracy: 0.8500 - val_loss: 1.3055 - val_accuracy: 0.5500\n",
      "Epoch 66/100\n",
      "2/2 [==============================] - 6s 3s/step - loss: 0.8052 - accuracy: 0.6000 - val_loss: 0.7219 - val_accuracy: 0.5000\n",
      "Epoch 67/100\n",
      "2/2 [==============================] - 6s 3s/step - loss: 0.3722 - accuracy: 0.8750 - val_loss: 0.7560 - val_accuracy: 0.5500\n",
      "Epoch 68/100\n",
      "2/2 [==============================] - 6s 3s/step - loss: 0.2502 - accuracy: 0.9750 - val_loss: 0.8532 - val_accuracy: 0.6000\n",
      "Epoch 69/100\n",
      "2/2 [==============================] - 6s 3s/step - loss: 0.2427 - accuracy: 0.9500 - val_loss: 0.8359 - val_accuracy: 0.5000\n",
      "Epoch 70/100\n",
      "2/2 [==============================] - 6s 3s/step - loss: 0.1941 - accuracy: 0.9500 - val_loss: 0.9402 - val_accuracy: 0.5000\n",
      "Epoch 71/100\n",
      "2/2 [==============================] - 6s 3s/step - loss: 0.1540 - accuracy: 0.9750 - val_loss: 0.9629 - val_accuracy: 0.5000\n",
      "Epoch 72/100\n",
      "2/2 [==============================] - 6s 3s/step - loss: 0.1584 - accuracy: 0.9750 - val_loss: 1.0991 - val_accuracy: 0.6000\n",
      "Epoch 73/100\n",
      "2/2 [==============================] - 6s 3s/step - loss: 0.6109 - accuracy: 0.7000 - val_loss: 1.0369 - val_accuracy: 0.5500\n",
      "Epoch 74/100\n",
      "2/2 [==============================] - 6s 3s/step - loss: 0.3082 - accuracy: 0.9250 - val_loss: 0.7563 - val_accuracy: 0.5500\n",
      "Epoch 75/100\n",
      "2/2 [==============================] - 6s 3s/step - loss: 0.1948 - accuracy: 1.0000 - val_loss: 0.8849 - val_accuracy: 0.5500\n",
      "Epoch 76/100\n",
      "2/2 [==============================] - 6s 3s/step - loss: 0.1936 - accuracy: 0.9500 - val_loss: 0.9529 - val_accuracy: 0.5000\n",
      "Epoch 77/100\n",
      "2/2 [==============================] - 6s 3s/step - loss: 0.1505 - accuracy: 0.9500 - val_loss: 0.9733 - val_accuracy: 0.6500\n",
      "Epoch 78/100\n",
      "2/2 [==============================] - 6s 3s/step - loss: 0.3089 - accuracy: 0.8750 - val_loss: 0.9831 - val_accuracy: 0.6500\n",
      "Epoch 79/100\n",
      "2/2 [==============================] - 6s 3s/step - loss: 0.1795 - accuracy: 0.9250 - val_loss: 0.8957 - val_accuracy: 0.4500\n",
      "Epoch 80/100\n",
      "2/2 [==============================] - 6s 3s/step - loss: 0.1143 - accuracy: 0.9750 - val_loss: 0.9371 - val_accuracy: 0.5500\n",
      "Epoch 81/100\n",
      "2/2 [==============================] - 6s 3s/step - loss: 0.1381 - accuracy: 0.9500 - val_loss: 1.0245 - val_accuracy: 0.6500\n",
      "Epoch 82/100\n",
      "2/2 [==============================] - 6s 3s/step - loss: 0.1325 - accuracy: 0.9750 - val_loss: 1.1159 - val_accuracy: 0.6500\n",
      "Epoch 83/100\n",
      "2/2 [==============================] - 6s 3s/step - loss: 0.1202 - accuracy: 0.9750 - val_loss: 1.1254 - val_accuracy: 0.5500\n",
      "Epoch 84/100\n",
      "2/2 [==============================] - 6s 3s/step - loss: 0.1294 - accuracy: 0.9750 - val_loss: 1.0833 - val_accuracy: 0.4500\n",
      "Epoch 85/100\n",
      "2/2 [==============================] - 6s 3s/step - loss: 0.0706 - accuracy: 0.9750 - val_loss: 1.0954 - val_accuracy: 0.5000\n",
      "Epoch 86/100\n",
      "2/2 [==============================] - 6s 3s/step - loss: 0.1183 - accuracy: 0.9750 - val_loss: 1.2308 - val_accuracy: 0.5500\n",
      "Epoch 87/100\n",
      "2/2 [==============================] - 6s 3s/step - loss: 0.2001 - accuracy: 0.9250 - val_loss: 1.5039 - val_accuracy: 0.5500\n",
      "Epoch 88/100\n",
      "2/2 [==============================] - 6s 3s/step - loss: 0.1987 - accuracy: 0.8500 - val_loss: 1.0005 - val_accuracy: 0.5500\n",
      "Epoch 89/100\n",
      "2/2 [==============================] - 6s 3s/step - loss: 0.1143 - accuracy: 0.9750 - val_loss: 1.0547 - val_accuracy: 0.6500\n",
      "Epoch 90/100\n",
      "2/2 [==============================] - 6s 3s/step - loss: 0.0888 - accuracy: 0.9750 - val_loss: 1.0033 - val_accuracy: 0.5500\n",
      "Epoch 91/100\n",
      "2/2 [==============================] - 6s 3s/step - loss: 0.0748 - accuracy: 1.0000 - val_loss: 1.0177 - val_accuracy: 0.4500\n",
      "Epoch 92/100\n",
      "2/2 [==============================] - 6s 3s/step - loss: 0.0706 - accuracy: 0.9750 - val_loss: 1.1474 - val_accuracy: 0.6000\n",
      "Epoch 93/100\n",
      "2/2 [==============================] - 6s 3s/step - loss: 0.0788 - accuracy: 1.0000 - val_loss: 1.1561 - val_accuracy: 0.6500\n",
      "Epoch 94/100\n",
      "2/2 [==============================] - 6s 3s/step - loss: 0.0620 - accuracy: 1.0000 - val_loss: 1.1651 - val_accuracy: 0.5000\n",
      "Epoch 95/100\n",
      "2/2 [==============================] - 7s 3s/step - loss: 0.0751 - accuracy: 0.9750 - val_loss: 1.3140 - val_accuracy: 0.6000\n",
      "Epoch 96/100\n",
      "2/2 [==============================] - 7s 3s/step - loss: 0.0735 - accuracy: 1.0000 - val_loss: 1.3128 - val_accuracy: 0.6500\n",
      "Epoch 97/100\n",
      "2/2 [==============================] - 6s 3s/step - loss: 0.0584 - accuracy: 1.0000 - val_loss: 1.2203 - val_accuracy: 0.4500\n",
      "Epoch 98/100\n",
      "2/2 [==============================] - 6s 3s/step - loss: 0.0468 - accuracy: 1.0000 - val_loss: 1.3451 - val_accuracy: 0.5500\n",
      "Epoch 99/100\n",
      "2/2 [==============================] - 6s 3s/step - loss: 0.0507 - accuracy: 1.0000 - val_loss: 1.2891 - val_accuracy: 0.6000\n",
      "Epoch 100/100\n",
      "2/2 [==============================] - 6s 3s/step - loss: 0.0580 - accuracy: 0.9750 - val_loss: 1.1913 - val_accuracy: 0.5000\n"
     ]
    },
    {
     "data": {
      "text/plain": [
       "<keras.callbacks.callbacks.History at 0x7f33b06c9690>"
      ]
     },
     "execution_count": 85,
     "metadata": {},
     "output_type": "execute_result"
    }
   ],
   "source": [
    "model.fit(train, validation_data=test , epochs=100)"
   ]
  },
  {
   "cell_type": "markdown",
   "metadata": {},
   "source": [
    "Evaluate the Model"
   ]
  },
  {
   "cell_type": "code",
   "execution_count": 92,
   "metadata": {},
   "outputs": [
    {
     "name": "stdout",
     "output_type": "stream",
     "text": [
      "1/1 [==============================] - 1s 783ms/step\n"
     ]
    }
   ],
   "source": [
    "test_loss, test_accuracy = model.evaluate(test)"
   ]
  },
  {
   "cell_type": "code",
   "execution_count": 93,
   "metadata": {},
   "outputs": [
    {
     "data": {
      "text/plain": [
       "1.1912965774536133"
      ]
     },
     "execution_count": 93,
     "metadata": {},
     "output_type": "execute_result"
    }
   ],
   "source": [
    "test_loss"
   ]
  },
  {
   "cell_type": "code",
   "execution_count": 94,
   "metadata": {},
   "outputs": [
    {
     "data": {
      "text/plain": [
       "0.5"
      ]
     },
     "execution_count": 94,
     "metadata": {},
     "output_type": "execute_result"
    }
   ],
   "source": [
    "test_accuracy"
   ]
  },
  {
   "cell_type": "markdown",
   "metadata": {},
   "source": [
    "Plot the Results"
   ]
  },
  {
   "cell_type": "code",
   "execution_count": 96,
   "metadata": {},
   "outputs": [
    {
     "name": "stdout",
     "output_type": "stream",
     "text": [
      "dict_keys(['val_loss', 'val_accuracy', 'loss', 'accuracy'])\n"
     ]
    }
   ],
   "source": [
    "# list all data in history\n",
    "print(model.history.history.keys())"
   ]
  },
  {
   "cell_type": "code",
   "execution_count": 98,
   "metadata": {},
   "outputs": [
    {
     "data": {
      "image/png": "[encoded data removed]",
      "text/plain": [
       "<Figure size 432x288 with 1 Axes>"
      ]
     },
     "metadata": {
      "needs_background": "light"
     },
     "output_type": "display_data"
    }
   ],
   "source": [
    "# summarize history for accuracy\n",
    "plt.plot(model.history.history['val_accuracy'])\n",
    "plt.plot(model.history.history['accuracy'])\n",
    "plt.title('model accuracy')\n",
    "plt.ylabel('accuracy')\n",
    "plt.xlabel('epoch')\n",
    "plt.legend(['train', 'test'], loc='upper left')\n",
    "plt.show()"
   ]
  },
  {
   "cell_type": "code",
   "execution_count": 99,
   "metadata": {},
   "outputs": [
    {
     "data": {
      "image/png": "[encoded data removed]",
      "text/plain": [
       "<Figure size 432x288 with 1 Axes>"
      ]
     },
     "metadata": {
      "needs_background": "light"
     },
     "output_type": "display_data"
    }
   ],
   "source": [
    "# summarize history for loss\n",
    "plt.plot(model.history.history['loss'])\n",
    "plt.plot(model.history.history['val_loss'])\n",
    "plt.title('model loss')\n",
    "plt.ylabel('loss')\n",
    "plt.xlabel('epoch')\n",
    "plt.legend(['train', 'test'], loc='upper left')\n",
    "plt.show()"
   ]
  },
  {
   "cell_type": "markdown",
   "metadata": {},
   "source": [
    "Train the model for 200 iterations"
   ]
  },
  {
   "cell_type": "code",
   "execution_count": 100,
   "metadata": {},
   "outputs": [
    {
     "name": "stdout",
     "output_type": "stream",
     "text": [
      "Epoch 1/200\n",
      "2/2 [==============================] - 6s 3s/step - loss: 0.0595 - accuracy: 0.9750 - val_loss: 1.3053 - val_accuracy: 0.6000\n",
      "Epoch 2/200\n",
      "2/2 [==============================] - 6s 3s/step - loss: 0.0381 - accuracy: 1.0000 - val_loss: 1.2663 - val_accuracy: 0.4500\n",
      "Epoch 3/200\n",
      "2/2 [==============================] - 6s 3s/step - loss: 0.0365 - accuracy: 1.0000 - val_loss: 1.2754 - val_accuracy: 0.5000\n",
      "Epoch 4/200\n",
      "2/2 [==============================] - 6s 3s/step - loss: 0.0394 - accuracy: 0.9750 - val_loss: 1.2980 - val_accuracy: 0.5000\n",
      "Epoch 5/200\n",
      "2/2 [==============================] - 6s 3s/step - loss: 0.0295 - accuracy: 1.0000 - val_loss: 1.4018 - val_accuracy: 0.6000\n",
      "Epoch 6/200\n",
      "2/2 [==============================] - 6s 3s/step - loss: 0.0744 - accuracy: 0.9750 - val_loss: 1.6290 - val_accuracy: 0.5500\n",
      "Epoch 7/200\n",
      "2/2 [==============================] - 6s 3s/step - loss: 0.5823 - accuracy: 0.8250 - val_loss: 4.0106 - val_accuracy: 0.5000\n",
      "Epoch 8/200\n",
      "2/2 [==============================] - 6s 3s/step - loss: 2.3274 - accuracy: 0.4500 - val_loss: 0.6961 - val_accuracy: 0.5000\n",
      "Epoch 9/200\n",
      "2/2 [==============================] - 6s 3s/step - loss: 0.7046 - accuracy: 0.5000 - val_loss: 0.6904 - val_accuracy: 0.5000\n",
      "Epoch 10/200\n",
      "2/2 [==============================] - 6s 3s/step - loss: 0.6768 - accuracy: 0.5000 - val_loss: 0.6905 - val_accuracy: 0.5000\n",
      "Epoch 11/200\n",
      "2/2 [==============================] - 6s 3s/step - loss: 0.6697 - accuracy: 0.5000 - val_loss: 0.6903 - val_accuracy: 0.5000\n",
      "Epoch 12/200\n",
      "2/2 [==============================] - 6s 3s/step - loss: 0.6615 - accuracy: 0.5000 - val_loss: 0.6861 - val_accuracy: 0.5000\n",
      "Epoch 13/200\n",
      "2/2 [==============================] - 6s 3s/step - loss: 0.6513 - accuracy: 0.6000 - val_loss: 0.6882 - val_accuracy: 0.6000\n",
      "Epoch 14/200\n",
      "2/2 [==============================] - 6s 3s/step - loss: 0.6384 - accuracy: 0.9500 - val_loss: 0.6883 - val_accuracy: 0.6500\n",
      "Epoch 15/200\n",
      "2/2 [==============================] - 6s 3s/step - loss: 0.6163 - accuracy: 0.8500 - val_loss: 0.6790 - val_accuracy: 0.7000\n",
      "Epoch 16/200\n",
      "2/2 [==============================] - 6s 3s/step - loss: 0.6083 - accuracy: 0.6500 - val_loss: 0.6903 - val_accuracy: 0.4500\n",
      "Epoch 17/200\n",
      "2/2 [==============================] - 6s 3s/step - loss: 0.5917 - accuracy: 0.5750 - val_loss: 0.7085 - val_accuracy: 0.5000\n",
      "Epoch 18/200\n",
      "2/2 [==============================] - 6s 3s/step - loss: 0.5854 - accuracy: 0.6000 - val_loss: 0.6725 - val_accuracy: 0.6000\n",
      "Epoch 19/200\n",
      "2/2 [==============================] - 6s 3s/step - loss: 0.5280 - accuracy: 0.9500 - val_loss: 0.6749 - val_accuracy: 0.7500\n",
      "Epoch 20/200\n",
      "2/2 [==============================] - 6s 3s/step - loss: 0.9111 - accuracy: 0.5500 - val_loss: 0.7248 - val_accuracy: 0.4500\n",
      "Epoch 21/200\n",
      "2/2 [==============================] - 6s 3s/step - loss: 0.6773 - accuracy: 0.7750 - val_loss: 0.7250 - val_accuracy: 0.5500\n",
      "Epoch 22/200\n",
      "2/2 [==============================] - 6s 3s/step - loss: 0.6250 - accuracy: 1.0000 - val_loss: 0.7293 - val_accuracy: 0.4500\n",
      "Epoch 23/200\n",
      "2/2 [==============================] - 6s 3s/step - loss: 0.5868 - accuracy: 0.9750 - val_loss: 0.7324 - val_accuracy: 0.5500\n",
      "Epoch 24/200\n",
      "2/2 [==============================] - 6s 3s/step - loss: 0.5772 - accuracy: 0.6250 - val_loss: 0.7723 - val_accuracy: 0.4500\n",
      "Epoch 25/200\n",
      "2/2 [==============================] - 6s 3s/step - loss: 0.5207 - accuracy: 0.7750 - val_loss: 0.7484 - val_accuracy: 0.5500\n",
      "Epoch 26/200\n",
      "2/2 [==============================] - 6s 3s/step - loss: 0.4487 - accuracy: 0.9500 - val_loss: 0.7901 - val_accuracy: 0.4500\n",
      "Epoch 27/200\n",
      "2/2 [==============================] - 6s 3s/step - loss: 0.4266 - accuracy: 0.9500 - val_loss: 1.1459 - val_accuracy: 0.5000\n",
      "Epoch 28/200\n",
      "2/2 [==============================] - 6s 3s/step - loss: 0.7141 - accuracy: 0.5000 - val_loss: 0.7502 - val_accuracy: 0.5500\n",
      "Epoch 29/200\n",
      "2/2 [==============================] - 6s 3s/step - loss: 0.5160 - accuracy: 0.9750 - val_loss: 0.7764 - val_accuracy: 0.6000\n",
      "Epoch 30/200\n",
      "2/2 [==============================] - 6s 3s/step - loss: 0.3971 - accuracy: 0.9500 - val_loss: 0.8285 - val_accuracy: 0.4500\n",
      "Epoch 31/200\n",
      "2/2 [==============================] - 6s 3s/step - loss: 0.3505 - accuracy: 0.9750 - val_loss: 0.8666 - val_accuracy: 0.4500\n",
      "Epoch 32/200\n",
      "2/2 [==============================] - 6s 3s/step - loss: 0.2595 - accuracy: 1.0000 - val_loss: 1.4843 - val_accuracy: 0.4500\n",
      "Epoch 33/200\n",
      "2/2 [==============================] - 6s 3s/step - loss: 0.3287 - accuracy: 0.9000 - val_loss: 0.9013 - val_accuracy: 0.6500\n",
      "Epoch 34/200\n",
      "2/2 [==============================] - 6s 3s/step - loss: 0.2713 - accuracy: 0.9500 - val_loss: 0.8401 - val_accuracy: 0.5500\n",
      "Epoch 35/200\n",
      "2/2 [==============================] - 6s 3s/step - loss: 0.2341 - accuracy: 1.0000 - val_loss: 0.8722 - val_accuracy: 0.5000\n",
      "Epoch 36/200\n",
      "2/2 [==============================] - 6s 3s/step - loss: 0.3695 - accuracy: 0.7750 - val_loss: 1.7444 - val_accuracy: 0.4500\n",
      "Epoch 37/200\n",
      "2/2 [==============================] - 6s 3s/step - loss: 0.7327 - accuracy: 0.6250 - val_loss: 0.8889 - val_accuracy: 0.5500\n",
      "Epoch 38/200\n",
      "2/2 [==============================] - 6s 3s/step - loss: 0.3552 - accuracy: 0.9750 - val_loss: 0.8797 - val_accuracy: 0.4500\n",
      "Epoch 39/200\n",
      "2/2 [==============================] - 6s 3s/step - loss: 0.2397 - accuracy: 0.9750 - val_loss: 0.9367 - val_accuracy: 0.4500\n",
      "Epoch 40/200\n",
      "2/2 [==============================] - 6s 3s/step - loss: 0.2101 - accuracy: 1.0000 - val_loss: 0.9430 - val_accuracy: 0.4500\n",
      "Epoch 41/200\n",
      "2/2 [==============================] - 6s 3s/step - loss: 0.1492 - accuracy: 0.9750 - val_loss: 1.0504 - val_accuracy: 0.4500\n",
      "Epoch 42/200\n",
      "2/2 [==============================] - 6s 3s/step - loss: 0.3958 - accuracy: 0.7000 - val_loss: 1.7984 - val_accuracy: 0.5000\n",
      "Epoch 43/200\n",
      "2/2 [==============================] - 6s 3s/step - loss: 0.4877 - accuracy: 0.9250 - val_loss: 0.8290 - val_accuracy: 0.5000\n",
      "Epoch 44/200\n",
      "2/2 [==============================] - 6s 3s/step - loss: 0.1747 - accuracy: 1.0000 - val_loss: 0.9417 - val_accuracy: 0.4500\n",
      "Epoch 45/200\n",
      "2/2 [==============================] - 6s 3s/step - loss: 0.1228 - accuracy: 1.0000 - val_loss: 1.0214 - val_accuracy: 0.4500\n",
      "Epoch 46/200\n",
      "2/2 [==============================] - 6s 3s/step - loss: 0.1136 - accuracy: 1.0000 - val_loss: 1.0967 - val_accuracy: 0.5500\n",
      "Epoch 47/200\n",
      "2/2 [==============================] - 6s 3s/step - loss: 0.1203 - accuracy: 1.0000 - val_loss: 1.0655 - val_accuracy: 0.5500\n",
      "Epoch 48/200\n",
      "2/2 [==============================] - 6s 3s/step - loss: 0.0981 - accuracy: 1.0000 - val_loss: 1.1110 - val_accuracy: 0.4500\n",
      "Epoch 49/200\n",
      "2/2 [==============================] - 6s 3s/step - loss: 0.0558 - accuracy: 1.0000 - val_loss: 1.1827 - val_accuracy: 0.5500\n",
      "Epoch 50/200\n",
      "2/2 [==============================] - 6s 3s/step - loss: 0.0779 - accuracy: 1.0000 - val_loss: 1.2019 - val_accuracy: 0.5000\n",
      "Epoch 51/200\n",
      "2/2 [==============================] - 6s 3s/step - loss: 0.0599 - accuracy: 1.0000 - val_loss: 1.2068 - val_accuracy: 0.4500\n",
      "Epoch 52/200\n",
      "2/2 [==============================] - 6s 3s/step - loss: 0.0425 - accuracy: 1.0000 - val_loss: 1.2297 - val_accuracy: 0.5000\n",
      "Epoch 53/200\n",
      "2/2 [==============================] - 6s 3s/step - loss: 0.0533 - accuracy: 0.9750 - val_loss: 1.3321 - val_accuracy: 0.6000\n",
      "Epoch 54/200\n",
      "2/2 [==============================] - 6s 3s/step - loss: 0.0478 - accuracy: 1.0000 - val_loss: 1.2870 - val_accuracy: 0.5500\n",
      "Epoch 55/200\n",
      "2/2 [==============================] - 6s 3s/step - loss: 0.1246 - accuracy: 0.9500 - val_loss: 1.8389 - val_accuracy: 0.6000\n",
      "Epoch 56/200\n",
      "2/2 [==============================] - 6s 3s/step - loss: 0.0619 - accuracy: 1.0000 - val_loss: 1.2410 - val_accuracy: 0.6000\n",
      "Epoch 57/200\n",
      "2/2 [==============================] - 6s 3s/step - loss: 0.0446 - accuracy: 1.0000 - val_loss: 1.2575 - val_accuracy: 0.6000\n",
      "Epoch 58/200\n",
      "2/2 [==============================] - 6s 3s/step - loss: 0.0729 - accuracy: 1.0000 - val_loss: 1.7487 - val_accuracy: 0.5000\n",
      "Epoch 59/200\n",
      "2/2 [==============================] - 6s 3s/step - loss: 0.4547 - accuracy: 0.8000 - val_loss: 1.0567 - val_accuracy: 0.5500\n",
      "Epoch 60/200\n",
      "2/2 [==============================] - 6s 3s/step - loss: 0.0758 - accuracy: 1.0000 - val_loss: 1.1915 - val_accuracy: 0.4500\n",
      "Epoch 61/200\n",
      "2/2 [==============================] - 6s 3s/step - loss: 0.0509 - accuracy: 1.0000 - val_loss: 1.2784 - val_accuracy: 0.4500\n",
      "Epoch 62/200\n",
      "2/2 [==============================] - 6s 3s/step - loss: 0.0438 - accuracy: 1.0000 - val_loss: 1.3214 - val_accuracy: 0.4500\n",
      "Epoch 63/200\n",
      "2/2 [==============================] - 6s 3s/step - loss: 0.0388 - accuracy: 1.0000 - val_loss: 1.3523 - val_accuracy: 0.4500\n",
      "Epoch 64/200\n",
      "2/2 [==============================] - 6s 3s/step - loss: 0.0368 - accuracy: 1.0000 - val_loss: 1.3943 - val_accuracy: 0.4500\n",
      "Epoch 65/200\n",
      "2/2 [==============================] - 6s 3s/step - loss: 0.0302 - accuracy: 1.0000 - val_loss: 1.4311 - val_accuracy: 0.4500\n",
      "Epoch 66/200\n",
      "2/2 [==============================] - 6s 3s/step - loss: 0.0329 - accuracy: 1.0000 - val_loss: 1.3650 - val_accuracy: 0.4500\n",
      "Epoch 67/200\n",
      "2/2 [==============================] - 6s 3s/step - loss: 0.0281 - accuracy: 1.0000 - val_loss: 1.3869 - val_accuracy: 0.5500\n",
      "Epoch 68/200\n",
      "2/2 [==============================] - 6s 3s/step - loss: 0.0229 - accuracy: 1.0000 - val_loss: 1.4011 - val_accuracy: 0.4500\n",
      "Epoch 69/200\n",
      "2/2 [==============================] - 6s 3s/step - loss: 0.0257 - accuracy: 1.0000 - val_loss: 1.4330 - val_accuracy: 0.4500\n",
      "Epoch 70/200\n",
      "2/2 [==============================] - 6s 3s/step - loss: 0.0194 - accuracy: 1.0000 - val_loss: 1.4816 - val_accuracy: 0.4500\n",
      "Epoch 71/200\n",
      "2/2 [==============================] - 6s 3s/step - loss: 0.0220 - accuracy: 1.0000 - val_loss: 1.5035 - val_accuracy: 0.4500\n",
      "Epoch 72/200\n",
      "2/2 [==============================] - 6s 3s/step - loss: 0.0156 - accuracy: 1.0000 - val_loss: 1.5201 - val_accuracy: 0.4500\n",
      "Epoch 73/200\n",
      "2/2 [==============================] - 6s 3s/step - loss: 0.0140 - accuracy: 1.0000 - val_loss: 1.5470 - val_accuracy: 0.4500\n",
      "Epoch 74/200\n",
      "2/2 [==============================] - 6s 3s/step - loss: 0.0129 - accuracy: 1.0000 - val_loss: 1.5659 - val_accuracy: 0.4500\n",
      "Epoch 75/200\n",
      "2/2 [==============================] - 6s 3s/step - loss: 0.0223 - accuracy: 1.0000 - val_loss: 1.5825 - val_accuracy: 0.4500\n",
      "Epoch 76/200\n",
      "2/2 [==============================] - 6s 3s/step - loss: 0.0166 - accuracy: 1.0000 - val_loss: 1.6082 - val_accuracy: 0.4500\n",
      "Epoch 77/200\n",
      "2/2 [==============================] - 6s 3s/step - loss: 0.0122 - accuracy: 1.0000 - val_loss: 1.6147 - val_accuracy: 0.4500\n",
      "Epoch 78/200\n",
      "2/2 [==============================] - 6s 3s/step - loss: 0.0107 - accuracy: 1.0000 - val_loss: 1.6333 - val_accuracy: 0.4500\n",
      "Epoch 79/200\n",
      "2/2 [==============================] - 6s 3s/step - loss: 0.0110 - accuracy: 1.0000 - val_loss: 1.6550 - val_accuracy: 0.4500\n",
      "Epoch 80/200\n",
      "2/2 [==============================] - 6s 3s/step - loss: 0.0104 - accuracy: 1.0000 - val_loss: 1.6682 - val_accuracy: 0.4500\n",
      "Epoch 81/200\n",
      "2/2 [==============================] - 6s 3s/step - loss: 0.0123 - accuracy: 1.0000 - val_loss: 1.6587 - val_accuracy: 0.4500\n",
      "Epoch 82/200\n",
      "2/2 [==============================] - 6s 3s/step - loss: 0.0083 - accuracy: 1.0000 - val_loss: 1.6764 - val_accuracy: 0.4500\n",
      "Epoch 83/200\n",
      "2/2 [==============================] - 6s 3s/step - loss: 0.0126 - accuracy: 1.0000 - val_loss: 1.7016 - val_accuracy: 0.4500\n",
      "Epoch 84/200\n",
      "2/2 [==============================] - 6s 3s/step - loss: 0.0114 - accuracy: 1.0000 - val_loss: 1.7293 - val_accuracy: 0.5000\n",
      "Epoch 85/200\n",
      "2/2 [==============================] - 6s 3s/step - loss: 0.0093 - accuracy: 1.0000 - val_loss: 1.7128 - val_accuracy: 0.4500\n",
      "Epoch 86/200\n",
      "2/2 [==============================] - 6s 3s/step - loss: 0.0081 - accuracy: 1.0000 - val_loss: 1.7210 - val_accuracy: 0.4500\n",
      "Epoch 87/200\n",
      "2/2 [==============================] - 6s 3s/step - loss: 0.0075 - accuracy: 1.0000 - val_loss: 1.7320 - val_accuracy: 0.5000\n",
      "Epoch 88/200\n",
      "2/2 [==============================] - 6s 3s/step - loss: 0.0076 - accuracy: 1.0000 - val_loss: 1.7415 - val_accuracy: 0.4500\n",
      "Epoch 89/200\n",
      "2/2 [==============================] - 6s 3s/step - loss: 0.0063 - accuracy: 1.0000 - val_loss: 1.7484 - val_accuracy: 0.4500\n",
      "Epoch 90/200\n",
      "2/2 [==============================] - 6s 3s/step - loss: 0.0088 - accuracy: 1.0000 - val_loss: 1.7486 - val_accuracy: 0.4500\n",
      "Epoch 91/200\n",
      "2/2 [==============================] - 6s 3s/step - loss: 0.0076 - accuracy: 1.0000 - val_loss: 1.7658 - val_accuracy: 0.4500\n",
      "Epoch 92/200\n",
      "2/2 [==============================] - 6s 3s/step - loss: 0.0091 - accuracy: 1.0000 - val_loss: 1.7680 - val_accuracy: 0.4500\n",
      "Epoch 93/200\n",
      "2/2 [==============================] - 6s 3s/step - loss: 0.0057 - accuracy: 1.0000 - val_loss: 1.7754 - val_accuracy: 0.4500\n",
      "Epoch 94/200\n",
      "2/2 [==============================] - 6s 3s/step - loss: 0.0071 - accuracy: 1.0000 - val_loss: 1.7751 - val_accuracy: 0.5000\n",
      "Epoch 95/200\n",
      "2/2 [==============================] - 6s 3s/step - loss: 0.0058 - accuracy: 1.0000 - val_loss: 1.7788 - val_accuracy: 0.5000\n",
      "Epoch 96/200\n",
      "2/2 [==============================] - 6s 3s/step - loss: 0.0056 - accuracy: 1.0000 - val_loss: 1.7788 - val_accuracy: 0.5000\n",
      "Epoch 97/200\n",
      "2/2 [==============================] - 6s 3s/step - loss: 0.0051 - accuracy: 1.0000 - val_loss: 1.7799 - val_accuracy: 0.4500\n",
      "Epoch 98/200\n",
      "2/2 [==============================] - 6s 3s/step - loss: 0.0046 - accuracy: 1.0000 - val_loss: 1.7864 - val_accuracy: 0.5000\n",
      "Epoch 99/200\n",
      "2/2 [==============================] - 6s 3s/step - loss: 0.0098 - accuracy: 1.0000 - val_loss: 1.8109 - val_accuracy: 0.4500\n",
      "Epoch 100/200\n",
      "2/2 [==============================] - 6s 3s/step - loss: 0.0067 - accuracy: 1.0000 - val_loss: 1.8129 - val_accuracy: 0.5000\n",
      "Epoch 101/200\n",
      "2/2 [==============================] - 6s 3s/step - loss: 0.0045 - accuracy: 1.0000 - val_loss: 1.8099 - val_accuracy: 0.5000\n",
      "Epoch 102/200\n",
      "2/2 [==============================] - 6s 3s/step - loss: 0.0070 - accuracy: 1.0000 - val_loss: 1.8207 - val_accuracy: 0.4500\n",
      "Epoch 103/200\n",
      "2/2 [==============================] - 6s 3s/step - loss: 0.0062 - accuracy: 1.0000 - val_loss: 1.8288 - val_accuracy: 0.4500\n",
      "Epoch 104/200\n",
      "2/2 [==============================] - 6s 3s/step - loss: 0.0044 - accuracy: 1.0000 - val_loss: 1.8379 - val_accuracy: 0.5000\n",
      "Epoch 105/200\n",
      "2/2 [==============================] - 6s 3s/step - loss: 0.0059 - accuracy: 1.0000 - val_loss: 1.8450 - val_accuracy: 0.5000\n",
      "Epoch 106/200\n",
      "2/2 [==============================] - 6s 3s/step - loss: 0.0050 - accuracy: 1.0000 - val_loss: 1.8401 - val_accuracy: 0.5000\n",
      "Epoch 107/200\n",
      "2/2 [==============================] - 6s 3s/step - loss: 0.0041 - accuracy: 1.0000 - val_loss: 1.8443 - val_accuracy: 0.5000\n",
      "Epoch 108/200\n",
      "2/2 [==============================] - 6s 3s/step - loss: 0.0035 - accuracy: 1.0000 - val_loss: 1.8489 - val_accuracy: 0.5000\n",
      "Epoch 109/200\n",
      "2/2 [==============================] - 6s 3s/step - loss: 0.0041 - accuracy: 1.0000 - val_loss: 1.8585 - val_accuracy: 0.5000\n",
      "Epoch 110/200\n",
      "2/2 [==============================] - 6s 3s/step - loss: 0.0033 - accuracy: 1.0000 - val_loss: 1.8643 - val_accuracy: 0.5000\n",
      "Epoch 111/200\n",
      "2/2 [==============================] - 6s 3s/step - loss: 0.0043 - accuracy: 1.0000 - val_loss: 1.8694 - val_accuracy: 0.5000\n",
      "Epoch 112/200\n",
      "2/2 [==============================] - 6s 3s/step - loss: 0.0028 - accuracy: 1.0000 - val_loss: 1.8685 - val_accuracy: 0.5000\n",
      "Epoch 113/200\n",
      "2/2 [==============================] - 6s 3s/step - loss: 0.0044 - accuracy: 1.0000 - val_loss: 1.8739 - val_accuracy: 0.4500\n",
      "Epoch 114/200\n",
      "2/2 [==============================] - 6s 3s/step - loss: 0.0036 - accuracy: 1.0000 - val_loss: 1.8749 - val_accuracy: 0.5000\n",
      "Epoch 115/200\n",
      "2/2 [==============================] - 6s 3s/step - loss: 0.0049 - accuracy: 1.0000 - val_loss: 1.8806 - val_accuracy: 0.5000\n",
      "Epoch 116/200\n",
      "2/2 [==============================] - 6s 3s/step - loss: 0.0052 - accuracy: 1.0000 - val_loss: 1.8931 - val_accuracy: 0.4500\n",
      "Epoch 117/200\n",
      "2/2 [==============================] - 6s 3s/step - loss: 0.0042 - accuracy: 1.0000 - val_loss: 1.8814 - val_accuracy: 0.5000\n",
      "Epoch 118/200\n",
      "2/2 [==============================] - 6s 3s/step - loss: 0.0031 - accuracy: 1.0000 - val_loss: 1.8838 - val_accuracy: 0.5000\n",
      "Epoch 119/200\n",
      "2/2 [==============================] - 6s 3s/step - loss: 0.0025 - accuracy: 1.0000 - val_loss: 1.8832 - val_accuracy: 0.5000\n",
      "Epoch 120/200\n",
      "2/2 [==============================] - 6s 3s/step - loss: 0.0033 - accuracy: 1.0000 - val_loss: 1.8906 - val_accuracy: 0.5000\n",
      "Epoch 121/200\n",
      "2/2 [==============================] - 6s 3s/step - loss: 0.0028 - accuracy: 1.0000 - val_loss: 1.8980 - val_accuracy: 0.5000\n",
      "Epoch 122/200\n",
      "2/2 [==============================] - 6s 3s/step - loss: 0.0043 - accuracy: 1.0000 - val_loss: 1.8972 - val_accuracy: 0.5000\n",
      "Epoch 123/200\n",
      "2/2 [==============================] - 6s 3s/step - loss: 0.0030 - accuracy: 1.0000 - val_loss: 1.9021 - val_accuracy: 0.5000\n",
      "Epoch 124/200\n",
      "2/2 [==============================] - 6s 3s/step - loss: 0.0030 - accuracy: 1.0000 - val_loss: 1.9041 - val_accuracy: 0.5000\n",
      "Epoch 125/200\n",
      "2/2 [==============================] - 6s 3s/step - loss: 0.0039 - accuracy: 1.0000 - val_loss: 1.9050 - val_accuracy: 0.5000\n",
      "Epoch 126/200\n",
      "2/2 [==============================] - 6s 3s/step - loss: 0.0031 - accuracy: 1.0000 - val_loss: 1.9128 - val_accuracy: 0.5000\n",
      "Epoch 127/200\n",
      "2/2 [==============================] - 6s 3s/step - loss: 0.0026 - accuracy: 1.0000 - val_loss: 1.9205 - val_accuracy: 0.5000\n",
      "Epoch 128/200\n",
      "2/2 [==============================] - 6s 3s/step - loss: 0.0026 - accuracy: 1.0000 - val_loss: 1.9289 - val_accuracy: 0.5000\n",
      "Epoch 129/200\n",
      "2/2 [==============================] - 6s 3s/step - loss: 0.0020 - accuracy: 1.0000 - val_loss: 1.9343 - val_accuracy: 0.5000\n",
      "Epoch 130/200\n",
      "2/2 [==============================] - 6s 3s/step - loss: 0.0021 - accuracy: 1.0000 - val_loss: 1.9379 - val_accuracy: 0.5000\n",
      "Epoch 131/200\n",
      "2/2 [==============================] - 6s 3s/step - loss: 0.0033 - accuracy: 1.0000 - val_loss: 1.9466 - val_accuracy: 0.4500\n",
      "Epoch 132/200\n",
      "2/2 [==============================] - 6s 3s/step - loss: 0.0053 - accuracy: 1.0000 - val_loss: 1.9395 - val_accuracy: 0.5000\n",
      "Epoch 133/200\n",
      "2/2 [==============================] - 6s 3s/step - loss: 0.0017 - accuracy: 1.0000 - val_loss: 1.9436 - val_accuracy: 0.5000\n",
      "Epoch 134/200\n",
      "2/2 [==============================] - 6s 3s/step - loss: 0.0025 - accuracy: 1.0000 - val_loss: 1.9444 - val_accuracy: 0.5000\n",
      "Epoch 135/200\n",
      "2/2 [==============================] - 6s 3s/step - loss: 0.0028 - accuracy: 1.0000 - val_loss: 1.9619 - val_accuracy: 0.4500\n",
      "Epoch 136/200\n",
      "2/2 [==============================] - 6s 3s/step - loss: 0.0028 - accuracy: 1.0000 - val_loss: 1.9580 - val_accuracy: 0.5000\n",
      "Epoch 137/200\n",
      "2/2 [==============================] - 6s 3s/step - loss: 0.0020 - accuracy: 1.0000 - val_loss: 1.9658 - val_accuracy: 0.5000\n",
      "Epoch 138/200\n",
      "2/2 [==============================] - 6s 3s/step - loss: 0.0022 - accuracy: 1.0000 - val_loss: 1.9773 - val_accuracy: 0.4500\n",
      "Epoch 139/200\n",
      "2/2 [==============================] - 6s 3s/step - loss: 0.0021 - accuracy: 1.0000 - val_loss: 1.9778 - val_accuracy: 0.5000\n",
      "Epoch 140/200\n",
      "2/2 [==============================] - 6s 3s/step - loss: 0.0027 - accuracy: 1.0000 - val_loss: 1.9730 - val_accuracy: 0.5000\n",
      "Epoch 141/200\n",
      "2/2 [==============================] - 6s 3s/step - loss: 0.0022 - accuracy: 1.0000 - val_loss: 1.9904 - val_accuracy: 0.4500\n",
      "Epoch 142/200\n",
      "2/2 [==============================] - 6s 3s/step - loss: 0.0027 - accuracy: 1.0000 - val_loss: 1.9908 - val_accuracy: 0.5000\n",
      "Epoch 143/200\n",
      "2/2 [==============================] - 6s 3s/step - loss: 0.0024 - accuracy: 1.0000 - val_loss: 1.9935 - val_accuracy: 0.5000\n",
      "Epoch 144/200\n",
      "2/2 [==============================] - 6s 3s/step - loss: 0.0028 - accuracy: 1.0000 - val_loss: 1.9985 - val_accuracy: 0.5000\n",
      "Epoch 145/200\n",
      "2/2 [==============================] - 6s 3s/step - loss: 0.0017 - accuracy: 1.0000 - val_loss: 2.0060 - val_accuracy: 0.4500\n",
      "Epoch 146/200\n",
      "2/2 [==============================] - 6s 3s/step - loss: 0.0019 - accuracy: 1.0000 - val_loss: 2.0099 - val_accuracy: 0.4500\n",
      "Epoch 147/200\n",
      "2/2 [==============================] - 6s 3s/step - loss: 0.0022 - accuracy: 1.0000 - val_loss: 2.0158 - val_accuracy: 0.4500\n",
      "Epoch 148/200\n",
      "2/2 [==============================] - 6s 3s/step - loss: 0.0021 - accuracy: 1.0000 - val_loss: 2.0275 - val_accuracy: 0.4500\n",
      "Epoch 149/200\n",
      "2/2 [==============================] - 6s 3s/step - loss: 0.0028 - accuracy: 1.0000 - val_loss: 2.0098 - val_accuracy: 0.5000\n",
      "Epoch 150/200\n",
      "2/2 [==============================] - 6s 3s/step - loss: 0.0026 - accuracy: 1.0000 - val_loss: 2.0162 - val_accuracy: 0.5000\n",
      "Epoch 151/200\n",
      "2/2 [==============================] - 6s 3s/step - loss: 0.0018 - accuracy: 1.0000 - val_loss: 2.0161 - val_accuracy: 0.5000\n",
      "Epoch 152/200\n",
      "2/2 [==============================] - 6s 3s/step - loss: 0.0018 - accuracy: 1.0000 - val_loss: 2.0189 - val_accuracy: 0.5000\n",
      "Epoch 153/200\n",
      "2/2 [==============================] - 6s 3s/step - loss: 0.0019 - accuracy: 1.0000 - val_loss: 2.0280 - val_accuracy: 0.5000\n",
      "Epoch 154/200\n",
      "2/2 [==============================] - 6s 3s/step - loss: 0.0020 - accuracy: 1.0000 - val_loss: 2.0205 - val_accuracy: 0.5000\n",
      "Epoch 155/200\n",
      "2/2 [==============================] - 6s 3s/step - loss: 0.0018 - accuracy: 1.0000 - val_loss: 2.0193 - val_accuracy: 0.5000\n",
      "Epoch 156/200\n",
      "2/2 [==============================] - 6s 3s/step - loss: 0.0022 - accuracy: 1.0000 - val_loss: 2.0285 - val_accuracy: 0.5000\n",
      "Epoch 157/200\n",
      "2/2 [==============================] - 6s 3s/step - loss: 0.0015 - accuracy: 1.0000 - val_loss: 2.0278 - val_accuracy: 0.5000\n",
      "Epoch 158/200\n",
      "2/2 [==============================] - 6s 3s/step - loss: 0.0019 - accuracy: 1.0000 - val_loss: 2.0331 - val_accuracy: 0.5000\n",
      "Epoch 159/200\n",
      "2/2 [==============================] - 6s 3s/step - loss: 0.0013 - accuracy: 1.0000 - val_loss: 2.0370 - val_accuracy: 0.5000\n",
      "Epoch 160/200\n",
      "2/2 [==============================] - 6s 3s/step - loss: 0.0014 - accuracy: 1.0000 - val_loss: 2.0449 - val_accuracy: 0.5000\n",
      "Epoch 161/200\n",
      "2/2 [==============================] - 6s 3s/step - loss: 0.0021 - accuracy: 1.0000 - val_loss: 2.0397 - val_accuracy: 0.5000\n",
      "Epoch 162/200\n",
      "2/2 [==============================] - 6s 3s/step - loss: 0.0019 - accuracy: 1.0000 - val_loss: 2.0432 - val_accuracy: 0.5000\n",
      "Epoch 163/200\n",
      "2/2 [==============================] - 6s 3s/step - loss: 0.0019 - accuracy: 1.0000 - val_loss: 2.0480 - val_accuracy: 0.5000\n",
      "Epoch 164/200\n",
      "2/2 [==============================] - 6s 3s/step - loss: 0.0012 - accuracy: 1.0000 - val_loss: 2.0519 - val_accuracy: 0.5000\n",
      "Epoch 165/200\n",
      "2/2 [==============================] - 6s 3s/step - loss: 0.0016 - accuracy: 1.0000 - val_loss: 2.0469 - val_accuracy: 0.5000\n",
      "Epoch 166/200\n",
      "2/2 [==============================] - 6s 3s/step - loss: 0.0014 - accuracy: 1.0000 - val_loss: 2.0571 - val_accuracy: 0.5000\n",
      "Epoch 167/200\n",
      "2/2 [==============================] - 6s 3s/step - loss: 0.0013 - accuracy: 1.0000 - val_loss: 2.0612 - val_accuracy: 0.5000\n",
      "Epoch 168/200\n",
      "2/2 [==============================] - 6s 3s/step - loss: 0.0015 - accuracy: 1.0000 - val_loss: 2.0636 - val_accuracy: 0.5000\n",
      "Epoch 169/200\n",
      "2/2 [==============================] - 6s 3s/step - loss: 0.0013 - accuracy: 1.0000 - val_loss: 2.0639 - val_accuracy: 0.5000\n",
      "Epoch 170/200\n",
      "2/2 [==============================] - 6s 3s/step - loss: 0.0021 - accuracy: 1.0000 - val_loss: 2.0552 - val_accuracy: 0.5000\n",
      "Epoch 171/200\n",
      "2/2 [==============================] - 6s 3s/step - loss: 0.0013 - accuracy: 1.0000 - val_loss: 2.0581 - val_accuracy: 0.5000\n",
      "Epoch 172/200\n",
      "2/2 [==============================] - 6s 3s/step - loss: 0.0023 - accuracy: 1.0000 - val_loss: 2.0807 - val_accuracy: 0.4500\n",
      "Epoch 173/200\n",
      "2/2 [==============================] - 6s 3s/step - loss: 0.0016 - accuracy: 1.0000 - val_loss: 2.0867 - val_accuracy: 0.4500\n",
      "Epoch 174/200\n",
      "2/2 [==============================] - 6s 3s/step - loss: 0.0012 - accuracy: 1.0000 - val_loss: 2.0898 - val_accuracy: 0.4500\n",
      "Epoch 175/200\n",
      "2/2 [==============================] - 6s 3s/step - loss: 0.0011 - accuracy: 1.0000 - val_loss: 2.0911 - val_accuracy: 0.5000\n",
      "Epoch 176/200\n",
      "2/2 [==============================] - 6s 3s/step - loss: 0.0015 - accuracy: 1.0000 - val_loss: 2.0906 - val_accuracy: 0.5000\n",
      "Epoch 177/200\n",
      "2/2 [==============================] - 6s 3s/step - loss: 0.0011 - accuracy: 1.0000 - val_loss: 2.0887 - val_accuracy: 0.5000\n",
      "Epoch 178/200\n",
      "2/2 [==============================] - 6s 3s/step - loss: 0.0013 - accuracy: 1.0000 - val_loss: 2.0900 - val_accuracy: 0.5000\n",
      "Epoch 179/200\n",
      "2/2 [==============================] - 6s 3s/step - loss: 0.0015 - accuracy: 1.0000 - val_loss: 2.1018 - val_accuracy: 0.5000\n",
      "Epoch 180/200\n",
      "2/2 [==============================] - 6s 3s/step - loss: 0.0018 - accuracy: 1.0000 - val_loss: 2.0997 - val_accuracy: 0.5000\n",
      "Epoch 181/200\n",
      "2/2 [==============================] - 6s 3s/step - loss: 0.0012 - accuracy: 1.0000 - val_loss: 2.1014 - val_accuracy: 0.5000\n",
      "Epoch 182/200\n",
      "2/2 [==============================] - 6s 3s/step - loss: 0.0011 - accuracy: 1.0000 - val_loss: 2.1041 - val_accuracy: 0.5000\n",
      "Epoch 183/200\n",
      "2/2 [==============================] - 6s 3s/step - loss: 0.0017 - accuracy: 1.0000 - val_loss: 2.1043 - val_accuracy: 0.5000\n",
      "Epoch 184/200\n",
      "2/2 [==============================] - 6s 3s/step - loss: 0.0011 - accuracy: 1.0000 - val_loss: 2.1025 - val_accuracy: 0.5000\n",
      "Epoch 185/200\n",
      "2/2 [==============================] - 6s 3s/step - loss: 0.0016 - accuracy: 1.0000 - val_loss: 2.0915 - val_accuracy: 0.5000\n",
      "Epoch 186/200\n",
      "2/2 [==============================] - 6s 3s/step - loss: 0.0013 - accuracy: 1.0000 - val_loss: 2.0915 - val_accuracy: 0.5000\n",
      "Epoch 187/200\n",
      "2/2 [==============================] - 6s 3s/step - loss: 0.0011 - accuracy: 1.0000 - val_loss: 2.0935 - val_accuracy: 0.5000\n",
      "Epoch 188/200\n",
      "2/2 [==============================] - 6s 3s/step - loss: 0.0011 - accuracy: 1.0000 - val_loss: 2.0963 - val_accuracy: 0.5000\n",
      "Epoch 189/200\n",
      "2/2 [==============================] - 6s 3s/step - loss: 0.0017 - accuracy: 1.0000 - val_loss: 2.1092 - val_accuracy: 0.4500\n",
      "Epoch 190/200\n",
      "2/2 [==============================] - 6s 3s/step - loss: 0.0013 - accuracy: 1.0000 - val_loss: 2.1060 - val_accuracy: 0.5000\n",
      "Epoch 191/200\n",
      "2/2 [==============================] - 6s 3s/step - loss: 0.0013 - accuracy: 1.0000 - val_loss: 2.1065 - val_accuracy: 0.5000\n",
      "Epoch 192/200\n",
      "2/2 [==============================] - 6s 3s/step - loss: 0.0017 - accuracy: 1.0000 - val_loss: 2.1139 - val_accuracy: 0.5000\n",
      "Epoch 193/200\n",
      "2/2 [==============================] - 6s 3s/step - loss: 0.0020 - accuracy: 1.0000 - val_loss: 2.1100 - val_accuracy: 0.5000\n",
      "Epoch 194/200\n",
      "2/2 [==============================] - 6s 3s/step - loss: 0.0011 - accuracy: 1.0000 - val_loss: 2.1142 - val_accuracy: 0.5000\n",
      "Epoch 195/200\n",
      "2/2 [==============================] - 6s 3s/step - loss: 8.2846e-04 - accuracy: 1.0000 - val_loss: 2.1188 - val_accuracy: 0.5000\n",
      "Epoch 196/200\n",
      "2/2 [==============================] - 6s 3s/step - loss: 0.0012 - accuracy: 1.0000 - val_loss: 2.1213 - val_accuracy: 0.5000\n",
      "Epoch 197/200\n",
      "2/2 [==============================] - 6s 3s/step - loss: 0.0015 - accuracy: 1.0000 - val_loss: 2.1213 - val_accuracy: 0.5000\n",
      "Epoch 198/200\n",
      "2/2 [==============================] - 6s 3s/step - loss: 9.9200e-04 - accuracy: 1.0000 - val_loss: 2.1257 - val_accuracy: 0.5000\n",
      "Epoch 199/200\n",
      "2/2 [==============================] - 6s 3s/step - loss: 0.0013 - accuracy: 1.0000 - val_loss: 2.1248 - val_accuracy: 0.5000\n",
      "Epoch 200/200\n",
      "2/2 [==============================] - 6s 3s/step - loss: 0.0015 - accuracy: 1.0000 - val_loss: 2.1260 - val_accuracy: 0.5000\n"
     ]
    },
    {
     "data": {
      "text/plain": [
       "<keras.callbacks.callbacks.History at 0x7f335037ddd0>"
      ]
     },
     "execution_count": 100,
     "metadata": {},
     "output_type": "execute_result"
    }
   ],
   "source": [
    "model.fit(train, validation_data=test , epochs=200)"
   ]
  },
  {
   "cell_type": "markdown",
   "metadata": {},
   "source": [
    "Plot the results"
   ]
  },
  {
   "cell_type": "code",
   "execution_count": 101,
   "metadata": {},
   "outputs": [
    {
     "data": {
      "image/png": "[encoded data removed]",
      "text/plain": [
       "<Figure size 432x288 with 1 Axes>"
      ]
     },
     "metadata": {
      "needs_background": "light"
     },
     "output_type": "display_data"
    }
   ],
   "source": [
    "# summarize history for accuracy\n",
    "plt.plot(model.history.history['val_accuracy'])\n",
    "plt.plot(model.history.history['accuracy'])\n",
    "plt.title('model accuracy')\n",
    "plt.ylabel('accuracy')\n",
    "plt.xlabel('epoch')\n",
    "plt.legend(['train', 'test'], loc='upper left')\n",
    "plt.show()"
   ]
  },
  {
   "cell_type": "code",
   "execution_count": 102,
   "metadata": {},
   "outputs": [
    {
     "data": {
      "image/png": "[encoded data removed]",
      "text/plain": [
       "<Figure size 432x288 with 1 Axes>"
      ]
     },
     "metadata": {
      "needs_background": "light"
     },
     "output_type": "display_data"
    }
   ],
   "source": [
    "# summarize history for loss\n",
    "plt.plot(model.history.history['loss'])\n",
    "plt.plot(model.history.history['val_loss'])\n",
    "plt.title('model loss')\n",
    "plt.ylabel('loss')\n",
    "plt.xlabel('epoch')\n",
    "plt.legend(['train', 'test'], loc='upper left')\n",
    "plt.show()"
   ]
  },
  {
   "cell_type": "markdown",
   "metadata": {},
   "source": [
    "Train the model for 300 iterrations"
   ]
  },
  {
   "cell_type": "code",
   "execution_count": 103,
   "metadata": {},
   "outputs": [
    {
     "name": "stdout",
     "output_type": "stream",
     "text": [
      "Epoch 1/100\n",
      "2/2 [==============================] - 7s 3s/step - loss: 0.0013 - accuracy: 1.0000 - val_loss: 2.1244 - val_accuracy: 0.5000\n",
      "Epoch 2/100\n",
      "2/2 [==============================] - 6s 3s/step - loss: 0.0014 - accuracy: 1.0000 - val_loss: 2.1280 - val_accuracy: 0.5000\n",
      "Epoch 3/100\n",
      "2/2 [==============================] - 6s 3s/step - loss: 0.0012 - accuracy: 1.0000 - val_loss: 2.1351 - val_accuracy: 0.5000\n",
      "Epoch 4/100\n",
      "2/2 [==============================] - 6s 3s/step - loss: 9.1956e-04 - accuracy: 1.0000 - val_loss: 2.1389 - val_accuracy: 0.5000\n",
      "Epoch 5/100\n",
      "2/2 [==============================] - 6s 3s/step - loss: 0.0011 - accuracy: 1.0000 - val_loss: 2.1387 - val_accuracy: 0.5000\n",
      "Epoch 6/100\n",
      "2/2 [==============================] - 6s 3s/step - loss: 0.0014 - accuracy: 1.0000 - val_loss: 2.1388 - val_accuracy: 0.5000\n",
      "Epoch 7/100\n",
      "2/2 [==============================] - 6s 3s/step - loss: 0.0013 - accuracy: 1.0000 - val_loss: 2.1389 - val_accuracy: 0.5000\n",
      "Epoch 8/100\n",
      "2/2 [==============================] - 6s 3s/step - loss: 0.0012 - accuracy: 1.0000 - val_loss: 2.1457 - val_accuracy: 0.5000\n",
      "Epoch 9/100\n",
      "2/2 [==============================] - 6s 3s/step - loss: 0.0012 - accuracy: 1.0000 - val_loss: 2.1424 - val_accuracy: 0.5000\n",
      "Epoch 10/100\n",
      "2/2 [==============================] - 6s 3s/step - loss: 0.0012 - accuracy: 1.0000 - val_loss: 2.1431 - val_accuracy: 0.5000\n",
      "Epoch 11/100\n",
      "2/2 [==============================] - 6s 3s/step - loss: 9.7972e-04 - accuracy: 1.0000 - val_loss: 2.1460 - val_accuracy: 0.5000\n",
      "Epoch 12/100\n",
      "2/2 [==============================] - 6s 3s/step - loss: 0.0014 - accuracy: 1.0000 - val_loss: 2.1478 - val_accuracy: 0.5000\n",
      "Epoch 13/100\n",
      "2/2 [==============================] - 6s 3s/step - loss: 0.0011 - accuracy: 1.0000 - val_loss: 2.1507 - val_accuracy: 0.5000\n",
      "Epoch 14/100\n",
      "2/2 [==============================] - 6s 3s/step - loss: 0.0014 - accuracy: 1.0000 - val_loss: 2.1558 - val_accuracy: 0.5000\n",
      "Epoch 15/100\n",
      "2/2 [==============================] - 6s 3s/step - loss: 0.0011 - accuracy: 1.0000 - val_loss: 2.1531 - val_accuracy: 0.5000\n",
      "Epoch 16/100\n",
      "2/2 [==============================] - 6s 3s/step - loss: 0.0011 - accuracy: 1.0000 - val_loss: 2.1605 - val_accuracy: 0.5000\n",
      "Epoch 17/100\n",
      "2/2 [==============================] - 6s 3s/step - loss: 7.2104e-04 - accuracy: 1.0000 - val_loss: 2.1612 - val_accuracy: 0.5000\n",
      "Epoch 18/100\n",
      "2/2 [==============================] - 6s 3s/step - loss: 0.0010 - accuracy: 1.0000 - val_loss: 2.1618 - val_accuracy: 0.5000\n",
      "Epoch 19/100\n",
      "2/2 [==============================] - 6s 3s/step - loss: 0.0011 - accuracy: 1.0000 - val_loss: 2.1709 - val_accuracy: 0.5000\n",
      "Epoch 20/100\n",
      "2/2 [==============================] - 6s 3s/step - loss: 0.0013 - accuracy: 1.0000 - val_loss: 2.1765 - val_accuracy: 0.4500\n",
      "Epoch 21/100\n",
      "2/2 [==============================] - 6s 3s/step - loss: 9.0304e-04 - accuracy: 1.0000 - val_loss: 2.1769 - val_accuracy: 0.4500\n",
      "Epoch 22/100\n",
      "2/2 [==============================] - 6s 3s/step - loss: 0.0012 - accuracy: 1.0000 - val_loss: 2.1715 - val_accuracy: 0.5000\n",
      "Epoch 23/100\n",
      "2/2 [==============================] - 6s 3s/step - loss: 9.5603e-04 - accuracy: 1.0000 - val_loss: 2.1721 - val_accuracy: 0.5000\n",
      "Epoch 24/100\n",
      "2/2 [==============================] - 6s 3s/step - loss: 9.8489e-04 - accuracy: 1.0000 - val_loss: 2.1742 - val_accuracy: 0.5000\n",
      "Epoch 25/100\n",
      "2/2 [==============================] - 6s 3s/step - loss: 0.0011 - accuracy: 1.0000 - val_loss: 2.1831 - val_accuracy: 0.5000\n",
      "Epoch 26/100\n",
      "2/2 [==============================] - 6s 3s/step - loss: 8.1223e-04 - accuracy: 1.0000 - val_loss: 2.1837 - val_accuracy: 0.5000\n",
      "Epoch 27/100\n",
      "2/2 [==============================] - 6s 3s/step - loss: 0.0010 - accuracy: 1.0000 - val_loss: 2.1849 - val_accuracy: 0.5000\n",
      "Epoch 28/100\n",
      "2/2 [==============================] - 6s 3s/step - loss: 0.0010 - accuracy: 1.0000 - val_loss: 2.1795 - val_accuracy: 0.5000\n",
      "Epoch 29/100\n",
      "2/2 [==============================] - 6s 3s/step - loss: 0.0013 - accuracy: 1.0000 - val_loss: 2.1709 - val_accuracy: 0.5000\n",
      "Epoch 30/100\n",
      "2/2 [==============================] - 6s 3s/step - loss: 9.9413e-04 - accuracy: 1.0000 - val_loss: 2.1772 - val_accuracy: 0.5000\n",
      "Epoch 31/100\n",
      "2/2 [==============================] - 6s 3s/step - loss: 7.3348e-04 - accuracy: 1.0000 - val_loss: 2.1821 - val_accuracy: 0.5000\n",
      "Epoch 32/100\n",
      "2/2 [==============================] - 6s 3s/step - loss: 8.8321e-04 - accuracy: 1.0000 - val_loss: 2.1839 - val_accuracy: 0.5000\n",
      "Epoch 33/100\n",
      "2/2 [==============================] - 6s 3s/step - loss: 7.6893e-04 - accuracy: 1.0000 - val_loss: 2.1866 - val_accuracy: 0.5000\n",
      "Epoch 34/100\n",
      "2/2 [==============================] - 6s 3s/step - loss: 0.0010 - accuracy: 1.0000 - val_loss: 2.1843 - val_accuracy: 0.5000\n",
      "Epoch 35/100\n",
      "2/2 [==============================] - 6s 3s/step - loss: 0.0011 - accuracy: 1.0000 - val_loss: 2.1873 - val_accuracy: 0.5000\n",
      "Epoch 36/100\n",
      "2/2 [==============================] - 6s 3s/step - loss: 8.8755e-04 - accuracy: 1.0000 - val_loss: 2.1862 - val_accuracy: 0.5000\n",
      "Epoch 37/100\n",
      "2/2 [==============================] - 6s 3s/step - loss: 8.5718e-04 - accuracy: 1.0000 - val_loss: 2.1905 - val_accuracy: 0.5000\n",
      "Epoch 38/100\n",
      "2/2 [==============================] - 6s 3s/step - loss: 7.4946e-04 - accuracy: 1.0000 - val_loss: 2.1917 - val_accuracy: 0.5000\n",
      "Epoch 39/100\n",
      "2/2 [==============================] - 6s 3s/step - loss: 8.1970e-04 - accuracy: 1.0000 - val_loss: 2.1900 - val_accuracy: 0.5000\n",
      "Epoch 40/100\n",
      "2/2 [==============================] - 6s 3s/step - loss: 0.0011 - accuracy: 1.0000 - val_loss: 2.1919 - val_accuracy: 0.5000\n",
      "Epoch 41/100\n",
      "2/2 [==============================] - 6s 3s/step - loss: 8.4999e-04 - accuracy: 1.0000 - val_loss: 2.1964 - val_accuracy: 0.5000\n",
      "Epoch 42/100\n",
      "2/2 [==============================] - 6s 3s/step - loss: 7.5533e-04 - accuracy: 1.0000 - val_loss: 2.1926 - val_accuracy: 0.5000\n",
      "Epoch 43/100\n",
      "2/2 [==============================] - 6s 3s/step - loss: 6.5501e-04 - accuracy: 1.0000 - val_loss: 2.1939 - val_accuracy: 0.5000\n",
      "Epoch 44/100\n",
      "2/2 [==============================] - 6s 3s/step - loss: 9.2553e-04 - accuracy: 1.0000 - val_loss: 2.1960 - val_accuracy: 0.5000\n",
      "Epoch 45/100\n",
      "2/2 [==============================] - 6s 3s/step - loss: 0.0012 - accuracy: 1.0000 - val_loss: 2.2023 - val_accuracy: 0.5000\n",
      "Epoch 46/100\n",
      "2/2 [==============================] - 6s 3s/step - loss: 0.0010 - accuracy: 1.0000 - val_loss: 2.1961 - val_accuracy: 0.5000\n",
      "Epoch 47/100\n",
      "2/2 [==============================] - 6s 3s/step - loss: 0.0010 - accuracy: 1.0000 - val_loss: 2.1960 - val_accuracy: 0.5000\n",
      "Epoch 48/100\n",
      "2/2 [==============================] - 6s 3s/step - loss: 0.0014 - accuracy: 1.0000 - val_loss: 2.1955 - val_accuracy: 0.5000\n",
      "Epoch 49/100\n",
      "2/2 [==============================] - 6s 3s/step - loss: 5.2206e-04 - accuracy: 1.0000 - val_loss: 2.1984 - val_accuracy: 0.5000\n",
      "Epoch 50/100\n",
      "2/2 [==============================] - 6s 3s/step - loss: 0.0011 - accuracy: 1.0000 - val_loss: 2.2048 - val_accuracy: 0.5000\n",
      "Epoch 51/100\n",
      "2/2 [==============================] - 6s 3s/step - loss: 0.0011 - accuracy: 1.0000 - val_loss: 2.2188 - val_accuracy: 0.5000\n",
      "Epoch 52/100\n",
      "2/2 [==============================] - 6s 3s/step - loss: 6.6826e-04 - accuracy: 1.0000 - val_loss: 2.2181 - val_accuracy: 0.5000\n",
      "Epoch 53/100\n",
      "2/2 [==============================] - 6s 3s/step - loss: 5.7457e-04 - accuracy: 1.0000 - val_loss: 2.2169 - val_accuracy: 0.5000\n",
      "Epoch 54/100\n",
      "2/2 [==============================] - 6s 3s/step - loss: 0.0012 - accuracy: 1.0000 - val_loss: 2.2049 - val_accuracy: 0.5000\n",
      "Epoch 55/100\n",
      "2/2 [==============================] - 6s 3s/step - loss: 0.0010 - accuracy: 1.0000 - val_loss: 2.2092 - val_accuracy: 0.5000\n",
      "Epoch 56/100\n",
      "2/2 [==============================] - 6s 3s/step - loss: 6.5386e-04 - accuracy: 1.0000 - val_loss: 2.2114 - val_accuracy: 0.5000\n",
      "Epoch 57/100\n",
      "2/2 [==============================] - 6s 3s/step - loss: 8.9356e-04 - accuracy: 1.0000 - val_loss: 2.2092 - val_accuracy: 0.5000\n",
      "Epoch 58/100\n",
      "2/2 [==============================] - 6s 3s/step - loss: 7.6778e-04 - accuracy: 1.0000 - val_loss: 2.2099 - val_accuracy: 0.5000\n",
      "Epoch 59/100\n",
      "2/2 [==============================] - 6s 3s/step - loss: 7.0946e-04 - accuracy: 1.0000 - val_loss: 2.2109 - val_accuracy: 0.5000\n",
      "Epoch 60/100\n",
      "2/2 [==============================] - 6s 3s/step - loss: 8.5014e-04 - accuracy: 1.0000 - val_loss: 2.2130 - val_accuracy: 0.5000\n",
      "Epoch 61/100\n",
      "2/2 [==============================] - 6s 3s/step - loss: 9.5755e-04 - accuracy: 1.0000 - val_loss: 2.2115 - val_accuracy: 0.5000\n",
      "Epoch 62/100\n",
      "2/2 [==============================] - 6s 3s/step - loss: 7.4242e-04 - accuracy: 1.0000 - val_loss: 2.2175 - val_accuracy: 0.5000\n",
      "Epoch 63/100\n",
      "2/2 [==============================] - 6s 3s/step - loss: 6.6942e-04 - accuracy: 1.0000 - val_loss: 2.2177 - val_accuracy: 0.5000\n",
      "Epoch 64/100\n",
      "2/2 [==============================] - 6s 3s/step - loss: 9.4685e-04 - accuracy: 1.0000 - val_loss: 2.2199 - val_accuracy: 0.5000\n",
      "Epoch 65/100\n",
      "2/2 [==============================] - 6s 3s/step - loss: 7.2840e-04 - accuracy: 1.0000 - val_loss: 2.2199 - val_accuracy: 0.5000\n",
      "Epoch 66/100\n",
      "2/2 [==============================] - 6s 3s/step - loss: 5.8709e-04 - accuracy: 1.0000 - val_loss: 2.2225 - val_accuracy: 0.5000\n",
      "Epoch 67/100\n",
      "2/2 [==============================] - 6s 3s/step - loss: 9.6199e-04 - accuracy: 1.0000 - val_loss: 2.2204 - val_accuracy: 0.5000\n",
      "Epoch 68/100\n",
      "2/2 [==============================] - 6s 3s/step - loss: 4.8601e-04 - accuracy: 1.0000 - val_loss: 2.2242 - val_accuracy: 0.5000\n",
      "Epoch 69/100\n",
      "2/2 [==============================] - 6s 3s/step - loss: 0.0011 - accuracy: 1.0000 - val_loss: 2.2248 - val_accuracy: 0.5000\n",
      "Epoch 70/100\n",
      "2/2 [==============================] - 6s 3s/step - loss: 6.4566e-04 - accuracy: 1.0000 - val_loss: 2.2245 - val_accuracy: 0.5000\n",
      "Epoch 71/100\n",
      "2/2 [==============================] - 6s 3s/step - loss: 9.5606e-04 - accuracy: 1.0000 - val_loss: 2.2184 - val_accuracy: 0.5000\n",
      "Epoch 72/100\n",
      "2/2 [==============================] - 6s 3s/step - loss: 7.2331e-04 - accuracy: 1.0000 - val_loss: 2.2198 - val_accuracy: 0.5000\n",
      "Epoch 73/100\n",
      "2/2 [==============================] - 6s 3s/step - loss: 8.3056e-04 - accuracy: 1.0000 - val_loss: 2.2175 - val_accuracy: 0.5000\n",
      "Epoch 74/100\n",
      "2/2 [==============================] - 6s 3s/step - loss: 0.0014 - accuracy: 1.0000 - val_loss: 2.2420 - val_accuracy: 0.5000\n",
      "Epoch 75/100\n",
      "2/2 [==============================] - 6s 3s/step - loss: 7.0678e-04 - accuracy: 1.0000 - val_loss: 2.2382 - val_accuracy: 0.5000\n",
      "Epoch 76/100\n",
      "2/2 [==============================] - 6s 3s/step - loss: 7.1854e-04 - accuracy: 1.0000 - val_loss: 2.2401 - val_accuracy: 0.5000\n",
      "Epoch 77/100\n",
      "2/2 [==============================] - 6s 3s/step - loss: 5.1677e-04 - accuracy: 1.0000 - val_loss: 2.2419 - val_accuracy: 0.5000\n",
      "Epoch 78/100\n",
      "2/2 [==============================] - 6s 3s/step - loss: 5.8759e-04 - accuracy: 1.0000 - val_loss: 2.2412 - val_accuracy: 0.5000\n",
      "Epoch 79/100\n",
      "2/2 [==============================] - 6s 3s/step - loss: 7.0219e-04 - accuracy: 1.0000 - val_loss: 2.2463 - val_accuracy: 0.5000\n",
      "Epoch 80/100\n",
      "2/2 [==============================] - 6s 3s/step - loss: 7.4834e-04 - accuracy: 1.0000 - val_loss: 2.2417 - val_accuracy: 0.5000\n",
      "Epoch 81/100\n",
      "2/2 [==============================] - 6s 3s/step - loss: 5.6032e-04 - accuracy: 1.0000 - val_loss: 2.2445 - val_accuracy: 0.5000\n",
      "Epoch 82/100\n",
      "2/2 [==============================] - 6s 3s/step - loss: 6.2384e-04 - accuracy: 1.0000 - val_loss: 2.2474 - val_accuracy: 0.5000\n",
      "Epoch 83/100\n",
      "2/2 [==============================] - 6s 3s/step - loss: 7.3678e-04 - accuracy: 1.0000 - val_loss: 2.2488 - val_accuracy: 0.5000\n",
      "Epoch 84/100\n",
      "2/2 [==============================] - 6s 3s/step - loss: 8.6282e-04 - accuracy: 1.0000 - val_loss: 2.2409 - val_accuracy: 0.5000\n",
      "Epoch 85/100\n",
      "2/2 [==============================] - 6s 3s/step - loss: 5.4888e-04 - accuracy: 1.0000 - val_loss: 2.2419 - val_accuracy: 0.5000\n",
      "Epoch 86/100\n",
      "2/2 [==============================] - 6s 3s/step - loss: 6.9703e-04 - accuracy: 1.0000 - val_loss: 2.2465 - val_accuracy: 0.5000\n",
      "Epoch 87/100\n",
      "2/2 [==============================] - 6s 3s/step - loss: 0.0016 - accuracy: 1.0000 - val_loss: 2.2532 - val_accuracy: 0.5000\n",
      "Epoch 88/100\n",
      "2/2 [==============================] - 6s 3s/step - loss: 5.1223e-04 - accuracy: 1.0000 - val_loss: 2.2505 - val_accuracy: 0.5000\n",
      "Epoch 89/100\n",
      "2/2 [==============================] - 6s 3s/step - loss: 0.0014 - accuracy: 1.0000 - val_loss: 2.2506 - val_accuracy: 0.5000\n",
      "Epoch 90/100\n",
      "2/2 [==============================] - 6s 3s/step - loss: 5.4627e-04 - accuracy: 1.0000 - val_loss: 2.2534 - val_accuracy: 0.5000\n",
      "Epoch 91/100\n",
      "2/2 [==============================] - 6s 3s/step - loss: 7.1465e-04 - accuracy: 1.0000 - val_loss: 2.2492 - val_accuracy: 0.5000\n",
      "Epoch 92/100\n",
      "2/2 [==============================] - 6s 3s/step - loss: 8.0085e-04 - accuracy: 1.0000 - val_loss: 2.2440 - val_accuracy: 0.5000\n",
      "Epoch 93/100\n",
      "2/2 [==============================] - 6s 3s/step - loss: 7.3180e-04 - accuracy: 1.0000 - val_loss: 2.2457 - val_accuracy: 0.5000\n",
      "Epoch 94/100\n",
      "2/2 [==============================] - 6s 3s/step - loss: 5.0960e-04 - accuracy: 1.0000 - val_loss: 2.2459 - val_accuracy: 0.5000\n",
      "Epoch 95/100\n",
      "2/2 [==============================] - 6s 3s/step - loss: 9.8363e-04 - accuracy: 1.0000 - val_loss: 2.2496 - val_accuracy: 0.5000\n",
      "Epoch 96/100\n",
      "2/2 [==============================] - 6s 3s/step - loss: 7.3829e-04 - accuracy: 1.0000 - val_loss: 2.2458 - val_accuracy: 0.5000\n",
      "Epoch 97/100\n",
      "2/2 [==============================] - 6s 3s/step - loss: 5.6581e-04 - accuracy: 1.0000 - val_loss: 2.2472 - val_accuracy: 0.5000\n",
      "Epoch 98/100\n",
      "2/2 [==============================] - 6s 3s/step - loss: 5.1453e-04 - accuracy: 1.0000 - val_loss: 2.2516 - val_accuracy: 0.5000\n",
      "Epoch 99/100\n",
      "2/2 [==============================] - 6s 3s/step - loss: 7.6660e-04 - accuracy: 1.0000 - val_loss: 2.2484 - val_accuracy: 0.5000\n",
      "Epoch 100/100\n",
      "2/2 [==============================] - 6s 3s/step - loss: 5.5992e-04 - accuracy: 1.0000 - val_loss: 2.2488 - val_accuracy: 0.5000\n"
     ]
    },
    {
     "data": {
      "text/plain": [
       "<keras.callbacks.callbacks.History at 0x7f33205747d0>"
      ]
     },
     "execution_count": 103,
     "metadata": {},
     "output_type": "execute_result"
    }
   ],
   "source": [
    "model.fit(train, validation_data=test , epochs=100)"
   ]
  },
  {
   "cell_type": "markdown",
   "metadata": {},
   "source": [
    "Plot the results"
   ]
  },
  {
   "cell_type": "code",
   "execution_count": 104,
   "metadata": {},
   "outputs": [
    {
     "data": {
      "image/png": "[encoded data removed]",
      "text/plain": [
       "<Figure size 432x288 with 1 Axes>"
      ]
     },
     "metadata": {
      "needs_background": "light"
     },
     "output_type": "display_data"
    }
   ],
   "source": [
    "# summarize history for accuracy\n",
    "plt.plot(model.history.history['val_accuracy'])\n",
    "plt.plot(model.history.history['accuracy'])\n",
    "plt.title('model accuracy')\n",
    "plt.ylabel('accuracy')\n",
    "plt.xlabel('epoch')\n",
    "plt.legend(['train', 'test'], loc='upper left')\n",
    "plt.show()"
   ]
  },
  {
   "cell_type": "code",
   "execution_count": 105,
   "metadata": {},
   "outputs": [
    {
     "data": {
      "image/png": "[encoded data removed]",
      "text/plain": [
       "<Figure size 432x288 with 1 Axes>"
      ]
     },
     "metadata": {
      "needs_background": "light"
     },
     "output_type": "display_data"
    }
   ],
   "source": [
    "# summarize history for loss\n",
    "plt.plot(model.history.history['loss'])\n",
    "plt.plot(model.history.history['val_loss'])\n",
    "plt.title('model loss')\n",
    "plt.ylabel('loss')\n",
    "plt.xlabel('epoch')\n",
    "plt.legend(['train', 'test'], loc='upper left')\n",
    "plt.show()"
   ]
  },
  {
   "cell_type": "code",
   "execution_count": null,
   "metadata": {},
   "outputs": [],
   "source": []
  }
 ],
 "metadata": {
  "kernelspec": {
   "display_name": "Python 3",
   "language": "python",
   "name": "python3"
  },
  "language_info": {
   "codemirror_mode": {
    "name": "ipython",
    "version": 3
   },
   "file_extension": ".py",
   "mimetype": "text/x-python",
   "name": "python",
   "nbconvert_exporter": "python",
   "pygments_lexer": "ipython3",
   "version": "3.7.6"
  }
 },
 "nbformat": 4,
 "nbformat_minor": 4
}
